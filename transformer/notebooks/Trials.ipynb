{
 "cells": [
  {
   "cell_type": "markdown",
   "metadata": {},
   "source": [
    "# Junk testing notebook not the final model"
   ]
  },
  {
   "cell_type": "code",
   "execution_count": 1,
   "metadata": {},
   "outputs": [
    {
     "name": "stderr",
     "output_type": "stream",
     "text": [
      "/usr/local/lib/python3.6/site-packages/h5py/__init__.py:36: FutureWarning: Conversion of the second argument of issubdtype from `float` to `np.floating` is deprecated. In future, it will be treated as `np.float64 == np.dtype(float).type`.\n",
      "  from ._conv import register_converters as _register_converters\n"
     ]
    }
   ],
   "source": [
    "import tensorflow as tf\n",
    "import numpy as np"
   ]
  },
  {
   "cell_type": "code",
   "execution_count": 4,
   "metadata": {},
   "outputs": [
    {
     "name": "stdout",
     "output_type": "stream",
     "text": [
      "[[-0.64149669  0.69884429 -0.09923077  1.44719497 -0.39937688]\n",
      " [-1.57425213 -0.32263962  0.08185847  0.39051642  0.91326861]\n",
      " [ 0.37046333  0.64824388  0.3414695  -0.03425428  0.22262136]\n",
      " [ 0.34248392  1.63617858  1.25776522 -0.3087631   0.78926198]\n",
      " [-0.77981961 -0.07972376  1.07504756  0.96321429  0.33597874]\n",
      " [-0.53815735  2.39853366  0.65107899 -0.76856517 -0.53599128]\n",
      " [-1.57065663  0.69091467 -1.49945899  0.49739481  0.33475268]\n",
      " [ 0.36886721  0.93643886 -0.11605022 -0.46051834  0.10699717]\n",
      " [ 0.06518237 -0.57575168  0.07757798 -1.87890303 -0.08600087]\n",
      " [ 0.52027297 -0.31057518 -0.61645971 -0.06247435  0.3512117 ]\n",
      " [-0.68904986 -0.78242203 -0.90296344  0.28954674 -0.49460374]\n",
      " [ 1.0085212  -0.10302162  0.40371888  0.43977026 -0.28065346]\n",
      " [-0.69721952 -0.15639741  1.22729461  0.54655177 -0.21798084]]\n"
     ]
    }
   ],
   "source": [
    "x = np.random.randn(13, 5)\n",
    "print(x)"
   ]
  },
  {
   "cell_type": "code",
   "execution_count": 5,
   "metadata": {},
   "outputs": [
    {
     "name": "stdout",
     "output_type": "stream",
     "text": [
      "Tensor(\"Const:0\", shape=(13, 5), dtype=float64)\n"
     ]
    }
   ],
   "source": [
    "emb = tf.constant(x)\n",
    "print(emb)"
   ]
  },
  {
   "cell_type": "code",
   "execution_count": 6,
   "metadata": {},
   "outputs": [],
   "source": [
    "q = [1]\n",
    "q_pl = tf.placeholder(tf.int32, [None], name = 'query')"
   ]
  },
  {
   "cell_type": "code",
   "execution_count": 7,
   "metadata": {},
   "outputs": [],
   "source": [
    "lookup = tf.nn.embedding_lookup(emb, q_pl)"
   ]
  },
  {
   "cell_type": "code",
   "execution_count": 8,
   "metadata": {},
   "outputs": [],
   "source": [
    "sess = tf.Session()"
   ]
  },
  {
   "cell_type": "code",
   "execution_count": 9,
   "metadata": {},
   "outputs": [
    {
     "data": {
      "text/plain": [
       "array([[-1.57425213, -0.32263962,  0.08185847,  0.39051642,  0.91326861]])"
      ]
     },
     "execution_count": 9,
     "metadata": {},
     "output_type": "execute_result"
    }
   ],
   "source": [
    "sess.run(lookup, feed_dict = {q_pl: q})"
   ]
  },
  {
   "cell_type": "code",
   "execution_count": 13,
   "metadata": {},
   "outputs": [
    {
     "data": {
      "text/plain": [
       "array([0.9999938, 0.5      ], dtype=float32)"
      ]
     },
     "execution_count": 13,
     "metadata": {},
     "output_type": "execute_result"
    }
   ],
   "source": [
    "sess.run(tf.sigmoid([12., 0.]))"
   ]
  },
  {
   "cell_type": "code",
   "execution_count": null,
   "metadata": {},
   "outputs": [],
   "source": []
  },
  {
   "cell_type": "code",
   "execution_count": null,
   "metadata": {},
   "outputs": [],
   "source": []
  },
  {
   "cell_type": "code",
   "execution_count": null,
   "metadata": {},
   "outputs": [],
   "source": []
  },
  {
   "cell_type": "code",
   "execution_count": 15,
   "metadata": {},
   "outputs": [
    {
     "name": "stdout",
     "output_type": "stream",
     "text": [
      "[[-0.46150963  1.65220658 -1.22201059 -0.26363355]\n",
      " [ 0.22971067  1.33664605  0.11253774 -0.07970056]\n",
      " [ 1.92576167  0.73469331 -0.75642091  1.51890203]\n",
      " [ 1.20769575 -0.08556157 -0.06427001  0.36002096]\n",
      " [-1.68428291  0.24842158  1.15771564  0.52042367]\n",
      " [-1.14990415  0.03939468 -0.39121161 -0.47556889]\n",
      " [ 1.37515466  0.0112242  -0.40831684 -1.60524304]\n",
      " [ 1.60873132  1.29707674 -0.90152081 -0.57840124]\n",
      " [-0.51112579 -0.976894   -1.90939731  0.53125335]\n",
      " [-0.94501113  1.11559169 -0.61929821 -0.54978269]]\n",
      "[[ 1.65220658 -1.22201059 -0.26363355]\n",
      " [ 1.33664605  0.11253774 -0.07970056]\n",
      " [ 0.73469331 -0.75642091  1.51890203]\n",
      " [-0.08556157 -0.06427001  0.36002096]\n",
      " [ 0.24842158  1.15771564  0.52042367]\n",
      " [ 0.03939468 -0.39121161 -0.47556889]\n",
      " [ 0.0112242  -0.40831684 -1.60524304]\n",
      " [ 1.29707674 -0.90152081 -0.57840124]\n",
      " [-0.976894   -1.90939731  0.53125335]\n",
      " [ 1.11559169 -0.61929821 -0.54978269]]\n"
     ]
    }
   ],
   "source": [
    "batch_ = np.random.randn(10, 4)\n",
    "print(batch_)\n",
    "print(batch_[:, 1:])"
   ]
  },
  {
   "cell_type": "code",
   "execution_count": 37,
   "metadata": {},
   "outputs": [
    {
     "name": "stdout",
     "output_type": "stream",
     "text": [
      "[array([-1.5097468 ,  0.97187704, -1.1467037 ,  1.628563  ], dtype=float32)\n",
      " array([ 0.08486259, -1.4896799 ,  1.6080999 ], dtype=float32)\n",
      " array([-0.21923354, -1.9496495 , -2.5362346 , -0.98984426, -0.07178294],\n",
      "      dtype=float32)\n",
      " array([-1.360168  , -0.18784778, -0.16101228, -0.8402991 ], dtype=float32)\n",
      " array([-0.86216503], dtype=float32)\n",
      " array([-1.0983992 ,  0.6750412 , -0.39504507], dtype=float32)\n",
      " array([ 0.63389575, -0.40742725,  0.6196666 ,  1.7046864 , -0.49599558],\n",
      "      dtype=float32)\n",
      " array([-1.1983697 ,  0.3309764 ,  0.6203675 , -0.98709786,  0.61874163],\n",
      "      dtype=float32)\n",
      " array([2.010768], dtype=float32)\n",
      " array([-0.39132604, -0.8241489 , -1.0844672 ,  0.8207169 ], dtype=float32)]\n"
     ]
    }
   ],
   "source": [
    "sequences = []\n",
    "batch_size = 10\n",
    "for i in range(batch_size):\n",
    "    seq = np.random.randn(np.random.randint(1, 6)).astype(np.float32)\n",
    "    sequences.append(seq)\n",
    "\n",
    "sequences = np.array(sequences)\n",
    "print(sequences)"
   ]
  },
  {
   "cell_type": "code",
   "execution_count": 38,
   "metadata": {},
   "outputs": [
    {
     "data": {
      "text/plain": [
       "(10,)"
      ]
     },
     "execution_count": 38,
     "metadata": {},
     "output_type": "execute_result"
    }
   ],
   "source": [
    "sequences.shape"
   ]
  },
  {
   "cell_type": "code",
   "execution_count": 39,
   "metadata": {},
   "outputs": [],
   "source": [
    "pad_id = 99."
   ]
  },
  {
   "cell_type": "code",
   "execution_count": 40,
   "metadata": {},
   "outputs": [
    {
     "name": "stdout",
     "output_type": "stream",
     "text": [
      "[-1.50974679  0.97187704 -1.14670372  1.62856305 99.        ]\n",
      "[ 8.48625898e-02 -1.48967993e+00  1.60809994e+00  9.90000000e+01\n",
      "  9.90000000e+01]\n",
      "[-0.21923354 -1.94964945 -2.53623462 -0.98984426 -0.07178294]\n",
      "[-1.36016798 -0.18784778 -0.16101228 -0.84029913 99.        ]\n",
      "[-0.86216503 99.         99.         99.         99.        ]\n",
      "[-1.09839916  0.6750412  -0.39504507 99.         99.        ]\n",
      "[ 0.63389575 -0.40742725  0.61966658  1.7046864  -0.49599558]\n",
      "[-1.19836974  0.3309764   0.62036753 -0.98709786  0.61874163]\n",
      "[ 2.01076794 99.         99.         99.         99.        ]\n",
      "[-0.39132604 -0.82414889 -1.08446717  0.82071692 99.        ]\n"
     ]
    }
   ],
   "source": [
    "seqlens = [i.shape[0] for i in sequences]\n",
    "# print(seqlens)\n",
    "for s in sequences:\n",
    "    seq = np.append(arr = s, values = np.ones(5 - len(s),dtype = np.int32) * pad_id)\n",
    "    print(seq)"
   ]
  },
  {
   "cell_type": "code",
   "execution_count": null,
   "metadata": {},
   "outputs": [],
   "source": [
    "inp = tf.placeholder(tf.int32, [None])"
   ]
  },
  {
   "cell_type": "code",
   "execution_count": 41,
   "metadata": {},
   "outputs": [
    {
     "data": {
      "text/plain": [
       "array([-0.39132604, -0.8241489 , -1.0844672 ,  0.8207169 ], dtype=float32)"
      ]
     },
     "execution_count": 41,
     "metadata": {},
     "output_type": "execute_result"
    }
   ],
   "source": [
    "s"
   ]
  },
  {
   "cell_type": "code",
   "execution_count": 42,
   "metadata": {},
   "outputs": [],
   "source": [
    "x_l = [i*i for i in range(3)]\n",
    "x_t = (i*i for i in range(3))"
   ]
  },
  {
   "cell_type": "code",
   "execution_count": 43,
   "metadata": {},
   "outputs": [
    {
     "name": "stdout",
     "output_type": "stream",
     "text": [
      "0\n",
      "1\n",
      "4\n",
      "\n",
      "0\n",
      "1\n",
      "4\n"
     ]
    }
   ],
   "source": [
    "for i in x_l:\n",
    "    print(i)\n",
    "print()\n",
    "\n",
    "for i in x_t:\n",
    "    print(i)"
   ]
  },
  {
   "cell_type": "code",
   "execution_count": 45,
   "metadata": {},
   "outputs": [
    {
     "name": "stdout",
     "output_type": "stream",
     "text": [
      "0\n",
      "1\n",
      "4\n",
      "here\n"
     ]
    }
   ],
   "source": [
    "for i in x_l:\n",
    "    print(i)\n",
    "print('here')\n",
    "\n",
    "for i in x_t:\n",
    "    print(i)"
   ]
  },
  {
   "cell_type": "code",
   "execution_count": null,
   "metadata": {},
   "outputs": [],
   "source": []
  }
 ],
 "metadata": {
  "kernelspec": {
   "display_name": "Python 3",
   "language": "python",
   "name": "python3"
  },
  "language_info": {
   "codemirror_mode": {
    "name": "ipython",
    "version": 3
   },
   "file_extension": ".py",
   "mimetype": "text/x-python",
   "name": "python",
   "nbconvert_exporter": "python",
   "pygments_lexer": "ipython3",
   "version": "3.6.5"
  }
 },
 "nbformat": 4,
 "nbformat_minor": 2
}
