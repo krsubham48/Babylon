{
 "cells": [
  {
   "cell_type": "code",
   "execution_count": 1,
   "metadata": {},
   "outputs": [],
   "source": [
    "import numpy as np\n",
    "import pandas as pd\n",
    "import glob\n",
    "import nltk\n",
    "import time"
   ]
  },
  {
   "cell_type": "code",
   "execution_count": 2,
   "metadata": {
    "collapsed": true
   },
   "outputs": [],
   "source": [
    "path_buff = '../data/Buffers/'"
   ]
  },
  {
   "cell_type": "code",
   "execution_count": 3,
   "metadata": {
    "collapsed": true
   },
   "outputs": [],
   "source": [
    "filenames = []\n",
    "for name in glob.glob(path_buff+'out_train*.txt'):\n",
    "    filenames.append(name)"
   ]
  },
  {
   "cell_type": "code",
   "execution_count": 4,
   "metadata": {},
   "outputs": [
    {
     "data": {
      "text/plain": [
       "['../data/Buffers/out_train2.txt',\n",
       " '../data/Buffers/out_train3.txt',\n",
       " '../data/Buffers/out_train1.txt',\n",
       " '../data/Buffers/out_train0.txt',\n",
       " '../data/Buffers/out_train4.txt',\n",
       " '../data/Buffers/out_train5.txt',\n",
       " '../data/Buffers/out_train6.txt']"
      ]
     },
     "execution_count": 4,
     "metadata": {},
     "output_type": "execute_result"
    }
   ],
   "source": [
    "filenames"
   ]
  },
  {
   "cell_type": "code",
   "execution_count": 5,
   "metadata": {
    "collapsed": true
   },
   "outputs": [],
   "source": [
    "query_lengths = []\n",
    "passage_lengths = []"
   ]
  },
  {
   "cell_type": "code",
   "execution_count": 6,
   "metadata": {},
   "outputs": [],
   "source": [
    "c = 0"
   ]
  },
  {
   "cell_type": "code",
   "execution_count": 7,
   "metadata": {},
   "outputs": [],
   "source": [
    "def operations_on_datachunk(data):\n",
    "    start_ = time.time()\n",
    "    global c\n",
    "    c+=1\n",
    "    query = data['query']\n",
    "    passage = data['passage_text']\n",
    "    for i in range(len(query)):\n",
    "        query_tokens = nltk.word_tokenize(query[i])\n",
    "        query_lengths.append(len(query_tokens))\n",
    "        passage_tokens = nltk.word_tokenize(passage[i])\n",
    "        passage_lengths.append(len(passage_tokens))\n",
    "    end_ = time.time()\n",
    "    print('query length for {0} is {1}'.format(c, len(query_lengths)))\n",
    "    print('passage length for {0} is {1}'.format(c, len(passage_lengths)))\n",
    "    print('Time elapsed for Buffer {0} is {1}s'.format(c, end_-start_))"
   ]
  },
  {
   "cell_type": "code",
   "execution_count": 8,
   "metadata": {},
   "outputs": [
    {
     "name": "stdout",
     "output_type": "stream",
     "text": [
      "../data/Buffers/out_train2.txt\n",
      "query length for 1 is 900146\n",
      "passage length for 1 is 900146\n",
      "Time elapsed for Buffer 1 is 832.556343793869s\n",
      "../data/Buffers/out_train3.txt\n",
      "query length for 2 is 1799646\n",
      "passage length for 2 is 1799646\n",
      "Time elapsed for Buffer 2 is 809.8610820770264s\n",
      "../data/Buffers/out_train1.txt\n",
      "query length for 3 is 2699964\n",
      "passage length for 3 is 2699964\n",
      "Time elapsed for Buffer 3 is 766.0401170253754s\n",
      "../data/Buffers/out_train0.txt\n",
      "query length for 4 is 2699964\n",
      "passage length for 4 is 2699964\n",
      "Time elapsed for Buffer 4 is 0.0002639293670654297s\n",
      "../data/Buffers/out_train4.txt\n",
      "query length for 5 is 3599600\n",
      "passage length for 5 is 3599600\n",
      "Time elapsed for Buffer 5 is 806.1398820877075s\n",
      "../data/Buffers/out_train5.txt\n",
      "query length for 6 is 4500291\n",
      "passage length for 6 is 4500291\n",
      "Time elapsed for Buffer 6 is 806.5421371459961s\n",
      "../data/Buffers/out_train6.txt\n",
      "query length for 7 is 4717692\n",
      "passage length for 7 is 4717692\n",
      "Time elapsed for Buffer 7 is 205.86064219474792s\n",
      "Overall Time Elapsed is 4261.402299880981s\n"
     ]
    }
   ],
   "source": [
    "start = time.time()\n",
    "for i in range(len(filenames)):\n",
    "    print(filenames[i])\n",
    "    data = pd.read_csv(filenames[i], delimiter='\\t', names=['query_id', 'query', 'passage_text', 'label', 'passage_id'])\n",
    "    operations_on_datachunk(data)\n",
    "end = time.time()\n",
    "print('Overall Time Elapsed is {0}s'.format(end-start))"
   ]
  },
  {
   "cell_type": "code",
   "execution_count": null,
   "metadata": {
    "collapsed": true
   },
   "outputs": [],
   "source": []
  },
  {
   "cell_type": "code",
   "execution_count": 11,
   "metadata": {
    "collapsed": true
   },
   "outputs": [],
   "source": [
    "query_mean = np.mean(np.asarray(query_lengths))\n",
    "query_median = np.median(np.asarray(query_lengths))\n",
    "passage_mean = np.mean(np.asarray(passage_lengths))\n",
    "passage_median = np.median(np.asarray(passage_lengths))"
   ]
  },
  {
   "cell_type": "code",
   "execution_count": 12,
   "metadata": {},
   "outputs": [
    {
     "name": "stdout",
     "output_type": "stream",
     "text": [
      "mean query length:  6.0792936461303535\n",
      "median query length:  6.0\n",
      "mean passage length:  64.83453201268756\n",
      "median passage length:  58.0\n"
     ]
    }
   ],
   "source": [
    "print('mean query length: ', query_mean)\n",
    "print('median query length: ', query_median)\n",
    "print('mean passage length: ', passage_mean)\n",
    "print('median passage length: ', passage_median)"
   ]
  },
  {
   "cell_type": "code",
   "execution_count": 16,
   "metadata": {},
   "outputs": [],
   "source": [
    "query_max = max(query_lengths)\n",
    "query_min = min(query_lengths)\n",
    "passage_max = max(passage_lengths)\n",
    "passage_min = min(passage_lengths)"
   ]
  },
  {
   "cell_type": "code",
   "execution_count": 17,
   "metadata": {},
   "outputs": [
    {
     "name": "stdout",
     "output_type": "stream",
     "text": [
      "max query length:  67\n",
      "min query length:  1\n",
      "max passage length:  439\n",
      "min passage length:  1\n"
     ]
    }
   ],
   "source": [
    "print('max query length: ', query_max)\n",
    "print('min query length: ', query_min)\n",
    "print('max passage length: ', passage_max)\n",
    "print('min passage length: ', passage_min)"
   ]
  },
  {
   "cell_type": "code",
   "execution_count": null,
   "metadata": {
    "collapsed": true
   },
   "outputs": [],
   "source": []
  }
 ],
 "metadata": {
  "kernelspec": {
   "display_name": "Python 3",
   "language": "python",
   "name": "python3"
  },
  "language_info": {
   "codemirror_mode": {
    "name": "ipython",
    "version": 3
   },
   "file_extension": ".py",
   "mimetype": "text/x-python",
   "name": "python",
   "nbconvert_exporter": "python",
   "pygments_lexer": "ipython3",
   "version": "3.6.1"
  }
 },
 "nbformat": 4,
 "nbformat_minor": 2
}
